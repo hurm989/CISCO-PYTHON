{
 "cells": [
  {
   "cell_type": "code",
   "execution_count": 9,
   "metadata": {},
   "outputs": [
    {
     "name": "stdout",
     "output_type": "stream",
     "text": [
      "Enter Calculas Marks : 89\n",
      "Enter English Marks : 56\n",
      "Enter Maths Marks : 45\n",
      "Enter Islamiyat Marks : 67\n",
      "Enter Computer Science Marks : 56\n",
      "62.6 %\n",
      "B\n"
     ]
    }
   ],
   "source": [
    "cal=int(input(\"Enter Calculas Marks : \"))\n",
    "eng=int(input(\"Enter English Marks : \"))\n",
    "math=int(input(\"Enter Maths Marks : \"))\n",
    "isl=int(input(\"Enter Islamiyat Marks : \"))\n",
    "cs=int(input(\"Enter Computer Science Marks : \"))\n",
    "obt_marks=cal+eng+math+isl+cs\n",
    "per=obt_marks*100/500\n",
    "print(per,\"%\")\n",
    "if per >=80 and per <= 100:\n",
    "    print(\"A+\")\n",
    "elif per >=70 and per < 80:\n",
    "    print(\"A\")\n",
    "elif per >=60 and per < 70:\n",
    "    print(\"B\")\n",
    "elif per >=50 and per < 60:\n",
    "    print(\"C\")\n",
    "elif per >=40 and per < 50:\n",
    "    print(\"D\")\n",
    "else:\n",
    "    print(\"Fail\")"
   ]
  },
  {
   "cell_type": "code",
   "execution_count": 5,
   "metadata": {},
   "outputs": [
    {
     "name": "stdout",
     "output_type": "stream",
     "text": [
      "Enter a number8\n",
      "This is an even number\n"
     ]
    }
   ],
   "source": [
    "num=int(input(\"Enter a number\"))\n",
    "if num % 2 == 0:\n",
    "    print(\"This is an even number\")\n",
    "else:\n",
    "    print(\"This is an odd number\")"
   ]
  },
  {
   "cell_type": "code",
   "execution_count": 8,
   "metadata": {},
   "outputs": [
    {
     "name": "stdout",
     "output_type": "stream",
     "text": [
      "6\n"
     ]
    }
   ],
   "source": [
    "test_list=[\"raza\",6,9,\"ahmed\",0,\"ali\"]\n",
    "length=len(test_list)\n",
    "print(length)"
   ]
  },
  {
   "cell_type": "code",
   "execution_count": 19,
   "metadata": {},
   "outputs": [
    {
     "data": {
      "text/plain": [
       "20"
      ]
     },
     "execution_count": 19,
     "metadata": {},
     "output_type": "execute_result"
    }
   ],
   "source": [
    "a_list=[\"2\",6,10,\"ali\",4]\n",
    "a1_list=[]\n",
    "for i in a:\n",
    "    if type(i)==int:\n",
    "        a1_list.append(i)\n",
    "sum(a1_list)"
   ]
  },
  {
   "cell_type": "code",
   "execution_count": 17,
   "metadata": {},
   "outputs": [
    {
     "name": "stdout",
     "output_type": "stream",
     "text": [
      "[2, 7, 12, 26, 33, 134, 344, 652, 988]\n"
     ]
    },
    {
     "data": {
      "text/plain": [
       "988"
      ]
     },
     "execution_count": 17,
     "metadata": {},
     "output_type": "execute_result"
    }
   ],
   "source": [
    "b_list=[12,7,2,26,134,988,33,344,652]\n",
    "b_list.sort()\n",
    "print(b_list)\n",
    "b_list[-1]"
   ]
  },
  {
   "cell_type": "code",
   "execution_count": 16,
   "metadata": {},
   "outputs": [
    {
     "name": "stdout",
     "output_type": "stream",
     "text": [
      "2\n",
      "4\n",
      "2\n",
      "3\n",
      "4\n"
     ]
    }
   ],
   "source": [
    "c_list=[2,31,4,2,6,3,45,11,4,31]\n",
    "for i in c_list:\n",
    "    if i < 5:\n",
    "        print(i)"
   ]
  },
  {
   "cell_type": "code",
   "execution_count": null,
   "metadata": {},
   "outputs": [],
   "source": []
  }
 ],
 "metadata": {
  "kernelspec": {
   "display_name": "Python 3",
   "language": "python",
   "name": "python3"
  },
  "language_info": {
   "codemirror_mode": {
    "name": "ipython",
    "version": 3
   },
   "file_extension": ".py",
   "mimetype": "text/x-python",
   "name": "python",
   "nbconvert_exporter": "python",
   "pygments_lexer": "ipython3",
   "version": "3.7.0"
  }
 },
 "nbformat": 4,
 "nbformat_minor": 2
}
